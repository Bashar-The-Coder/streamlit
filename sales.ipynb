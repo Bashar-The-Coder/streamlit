{
 "cells": [
  {
   "cell_type": "code",
   "execution_count": 2,
   "metadata": {},
   "outputs": [
    {
     "ename": "ModuleNotFoundError",
     "evalue": "No module named 'streamlit'",
     "output_type": "error",
     "traceback": [
      "\u001b[1;31m---------------------------------------------------------------------------\u001b[0m",
      "\u001b[1;31mModuleNotFoundError\u001b[0m                       Traceback (most recent call last)",
      "\u001b[1;32mf:\\ANALYSIS\\Streamlit\\sales_analysis\\sales.ipynb Cell 1\u001b[0m in \u001b[0;36m2\n\u001b[0;32m      <a href='vscode-notebook-cell:/f%3A/ANALYSIS/Streamlit/sales_analysis/sales.ipynb#W0sZmlsZQ%3D%3D?line=0'>1</a>\u001b[0m \u001b[39mimport\u001b[39;00m \u001b[39mpandas\u001b[39;00m \u001b[39mas\u001b[39;00m \u001b[39mpd\u001b[39;00m\n\u001b[1;32m----> <a href='vscode-notebook-cell:/f%3A/ANALYSIS/Streamlit/sales_analysis/sales.ipynb#W0sZmlsZQ%3D%3D?line=1'>2</a>\u001b[0m \u001b[39mimport\u001b[39;00m \u001b[39mstreamlit\u001b[39;00m \u001b[39mas\u001b[39;00m \u001b[39mst\u001b[39;00m\n",
      "\u001b[1;31mModuleNotFoundError\u001b[0m: No module named 'streamlit'"
     ]
    }
   ],
   "source": [
    "import pandas as pd\n",
    "import streamlit as st"
   ]
  },
  {
   "cell_type": "code",
   "execution_count": 3,
   "metadata": {},
   "outputs": [
    {
     "name": "stdout",
     "output_type": "stream",
     "text": [
      "Collecting streamlit\n",
      "  Downloading streamlit-1.19.0-py2.py3-none-any.whl (9.6 MB)\n",
      "Collecting validators>=0.2\n",
      "  Downloading validators-0.20.0.tar.gz (30 kB)\n",
      "Requirement already satisfied: requests>=2.4 in c:\\users\\it\\appdata\\local\\programs\\python\\python310\\lib\\site-packages (from streamlit) (2.25.1)\n",
      "Collecting cachetools>=4.0\n",
      "  Downloading cachetools-5.3.0-py3-none-any.whl (9.3 kB)\n",
      "Collecting pillow>=6.2.0\n",
      "  Downloading Pillow-9.4.0-cp310-cp310-win_amd64.whl (2.5 MB)\n",
      "Collecting pympler>=0.9\n",
      "  Downloading Pympler-1.0.1-py3-none-any.whl (164 kB)\n",
      "Collecting gitpython!=3.1.19\n",
      "  Downloading GitPython-3.1.31-py3-none-any.whl (184 kB)\n",
      "Requirement already satisfied: packaging>=14.1 in c:\\users\\it\\appdata\\roaming\\python\\python310\\site-packages (from streamlit) (21.3)\n",
      "Collecting blinker>=1.0.0\n",
      "  Downloading blinker-1.5-py2.py3-none-any.whl (12 kB)\n",
      "Collecting watchdog\n",
      "  Downloading watchdog-2.3.1-py3-none-win_amd64.whl (80 kB)\n",
      "Collecting protobuf<4,>=3.12\n",
      "  Downloading protobuf-3.20.3-cp310-cp310-win_amd64.whl (904 kB)\n",
      "Requirement already satisfied: pandas>=0.25 in c:\\users\\it\\appdata\\local\\programs\\python\\python310\\lib\\site-packages (from streamlit) (1.5.2)\n",
      "Requirement already satisfied: python-dateutil in c:\\users\\it\\appdata\\local\\programs\\python\\python310\\lib\\site-packages (from streamlit) (2.8.1)\n",
      "Collecting altair>=3.2.0\n",
      "  Downloading altair-4.2.2-py3-none-any.whl (813 kB)\n",
      "Collecting semver\n",
      "  Downloading semver-2.13.0-py2.py3-none-any.whl (12 kB)\n",
      "Requirement already satisfied: click>=7.0 in c:\\users\\it\\appdata\\local\\programs\\python\\python310\\lib\\site-packages (from streamlit) (7.0)\n",
      "Requirement already satisfied: tornado>=6.0.3 in c:\\users\\it\\appdata\\local\\programs\\python\\python310\\lib\\site-packages (from streamlit) (6.0.4)\n",
      "Collecting importlib-metadata>=1.4\n",
      "  Downloading importlib_metadata-6.0.0-py3-none-any.whl (21 kB)\n",
      "Collecting toml\n",
      "  Using cached toml-0.10.2-py2.py3-none-any.whl (16 kB)\n",
      "Collecting typing-extensions>=3.10.0.0\n",
      "  Downloading typing_extensions-4.5.0-py3-none-any.whl (27 kB)\n",
      "Collecting rich>=10.11.0\n",
      "  Downloading rich-13.3.2-py3-none-any.whl (238 kB)\n",
      "Requirement already satisfied: numpy in c:\\users\\it\\appdata\\local\\programs\\python\\python310\\lib\\site-packages (from streamlit) (1.24.1)\n",
      "Collecting pydeck>=0.1.dev5\n",
      "  Downloading pydeck-0.8.0-py2.py3-none-any.whl (4.7 MB)\n",
      "Requirement already satisfied: tzlocal>=1.1 in c:\\users\\it\\appdata\\local\\programs\\python\\python310\\lib\\site-packages (from streamlit) (2.1)\n",
      "Collecting pyarrow>=4.0\n",
      "  Downloading pyarrow-11.0.0-cp310-cp310-win_amd64.whl (20.6 MB)\n",
      "Collecting jsonschema>=3.0\n",
      "  Downloading jsonschema-4.17.3-py3-none-any.whl (90 kB)\n",
      "Requirement already satisfied: entrypoints in c:\\users\\it\\appdata\\roaming\\python\\python310\\site-packages (from altair>=3.2.0->streamlit) (0.4)\n",
      "Collecting toolz\n",
      "  Downloading toolz-0.12.0-py3-none-any.whl (55 kB)\n",
      "Requirement already satisfied: jinja2 in c:\\users\\it\\appdata\\local\\programs\\python\\python310\\lib\\site-packages (from altair>=3.2.0->streamlit) (2.10)\n",
      "Collecting gitdb<5,>=4.0.1\n",
      "  Downloading gitdb-4.0.10-py3-none-any.whl (62 kB)\n",
      "Collecting smmap<6,>=3.0.1\n",
      "  Downloading smmap-5.0.0-py3-none-any.whl (24 kB)\n",
      "Requirement already satisfied: zipp>=0.5 in c:\\users\\it\\appdata\\local\\programs\\python\\python310\\lib\\site-packages (from importlib-metadata>=1.4->streamlit) (3.1.0)\n",
      "Collecting pyrsistent!=0.17.0,!=0.17.1,!=0.17.2,>=0.14.0\n",
      "  Downloading pyrsistent-0.19.3-cp310-cp310-win_amd64.whl (62 kB)\n",
      "Collecting attrs>=17.4.0\n",
      "  Downloading attrs-22.2.0-py3-none-any.whl (60 kB)\n",
      "Requirement already satisfied: pyparsing!=3.0.5,>=2.0.2 in c:\\users\\it\\appdata\\roaming\\python\\python310\\site-packages (from packaging>=14.1->streamlit) (3.0.9)\n",
      "Requirement already satisfied: pytz>=2020.1 in c:\\users\\it\\appdata\\local\\programs\\python\\python310\\lib\\site-packages (from pandas>=0.25->streamlit) (2022.1)\n",
      "Collecting jinja2\n",
      "  Downloading Jinja2-3.1.2-py3-none-any.whl (133 kB)\n",
      "Collecting MarkupSafe>=2.0\n",
      "  Downloading MarkupSafe-2.1.2-cp310-cp310-win_amd64.whl (16 kB)\n",
      "Requirement already satisfied: six>=1.5 in c:\\users\\it\\appdata\\local\\programs\\python\\python310\\lib\\site-packages (from python-dateutil->streamlit) (1.12.0)\n",
      "Requirement already satisfied: certifi>=2017.4.17 in c:\\users\\it\\appdata\\local\\programs\\python\\python310\\lib\\site-packages (from requests>=2.4->streamlit) (2021.5.30)\n",
      "Requirement already satisfied: chardet<5,>=3.0.2 in c:\\users\\it\\appdata\\local\\programs\\python\\python310\\lib\\site-packages (from requests>=2.4->streamlit) (4.0.0)\n",
      "Requirement already satisfied: idna<3,>=2.5 in c:\\users\\it\\appdata\\local\\programs\\python\\python310\\lib\\site-packages (from requests>=2.4->streamlit) (2.10)\n",
      "Requirement already satisfied: urllib3<1.27,>=1.21.1 in c:\\users\\it\\appdata\\local\\programs\\python\\python310\\lib\\site-packages (from requests>=2.4->streamlit) (1.26.6)\n",
      "Collecting markdown-it-py<3.0.0,>=2.2.0\n",
      "  Downloading markdown_it_py-2.2.0-py3-none-any.whl (84 kB)\n",
      "Requirement already satisfied: pygments<3.0.0,>=2.13.0 in c:\\users\\it\\appdata\\roaming\\python\\python310\\site-packages (from rich>=10.11.0->streamlit) (2.13.0)\n",
      "Collecting mdurl~=0.1\n",
      "  Downloading mdurl-0.1.2-py3-none-any.whl (10.0 kB)\n",
      "Requirement already satisfied: decorator>=3.4.0 in c:\\users\\it\\appdata\\roaming\\python\\python310\\site-packages (from validators>=0.2->streamlit) (5.1.1)\n",
      "Using legacy 'setup.py install' for validators, since package 'wheel' is not installed.\n",
      "Installing collected packages: smmap, pyrsistent, mdurl, MarkupSafe, attrs, toolz, markdown-it-py, jsonschema, jinja2, gitdb, watchdog, validators, typing-extensions, toml, semver, rich, pympler, pydeck, pyarrow, protobuf, pillow, importlib-metadata, gitpython, cachetools, blinker, altair, streamlit\n",
      "  Attempting uninstall: MarkupSafe\n",
      "    Found existing installation: MarkupSafe 1.1.0\n",
      "    Uninstalling MarkupSafe-1.1.0:\n",
      "      Successfully uninstalled MarkupSafe-1.1.0\n",
      "  Attempting uninstall: jinja2\n",
      "    Found existing installation: Jinja2 2.10\n",
      "    Uninstalling Jinja2-2.10:\n",
      "      Successfully uninstalled Jinja2-2.10\n",
      "    Running setup.py install for validators: started\n",
      "    Running setup.py install for validators: finished with status 'done'\n",
      "Successfully installed MarkupSafe-2.1.2 altair-4.2.2 attrs-22.2.0 blinker-1.5 cachetools-5.3.0 gitdb-4.0.10 gitpython-3.1.31 importlib-metadata-6.0.0 jinja2-3.1.2 jsonschema-4.17.3 markdown-it-py-2.2.0 mdurl-0.1.2 pillow-9.4.0 protobuf-3.20.3 pyarrow-11.0.0 pydeck-0.8.0 pympler-1.0.1 pyrsistent-0.19.3 rich-13.3.2 semver-2.13.0 smmap-5.0.0 streamlit-1.19.0 toml-0.10.2 toolz-0.12.0 typing-extensions-4.5.0 validators-0.20.0 watchdog-2.3.1\n",
      "Note: you may need to restart the kernel to use updated packages.\n"
     ]
    },
    {
     "name": "stderr",
     "output_type": "stream",
     "text": [
      "WARNING: You are using pip version 21.2.4; however, version 23.0.1 is available.\n",
      "You should consider upgrading via the 'c:\\Users\\IT\\AppData\\Local\\Programs\\Python\\Python310\\python.exe -m pip install --upgrade pip' command.\n"
     ]
    }
   ],
   "source": [
    "%pip install streamlit"
   ]
  },
  {
   "cell_type": "code",
   "execution_count": null,
   "metadata": {},
   "outputs": [],
   "source": []
  }
 ],
 "metadata": {
  "kernelspec": {
   "display_name": "Python 3",
   "language": "python",
   "name": "python3"
  },
  "language_info": {
   "codemirror_mode": {
    "name": "ipython",
    "version": 3
   },
   "file_extension": ".py",
   "mimetype": "text/x-python",
   "name": "python",
   "nbconvert_exporter": "python",
   "pygments_lexer": "ipython3",
   "version": "3.10.1"
  },
  "orig_nbformat": 4
 },
 "nbformat": 4,
 "nbformat_minor": 2
}
